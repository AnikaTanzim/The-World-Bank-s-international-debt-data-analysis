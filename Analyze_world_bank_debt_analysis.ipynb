{
  "cells": [
    {
      "metadata": {
        "dc": {
          "key": "4"
        },
        "deletable": false,
        "editable": false,
        "run_control": {
          "frozen": true
        },
        "tags": [
          "context"
        ],
        "id": "N08cfFt7L7uR"
      },
      "cell_type": "markdown",
      "source": [
        "## 1. The World Bank's international debt data\n",
        "Humans don't solely incur debt to meet basic needs; countries also take on debt to manage their economies effectively. For instance, infrastructure investment is a significant expense necessary for ensuring a high quality of life for citizens. The World Bank is a key institution that provides loans to nations.\n",
        "\n",
        "In this notebook, we will analyze international debt data gathered by The World Bank. The dataset includes details about the debt (in USD) owed by developing countries across various categories. We aim to address questions such as:\n",
        "\n",
        "<ul>\n",
        "<li>What is the total amount of debt that is owed by the countries listed in the dataset?</li>\n",
        "<li>Which country owns the maximum amount of debt and what does that amount look like?</li>\n",
        "<li>What is the average amount of debt owed by countries across different debt indicators?</li>\n",
        "</ul>\n"
      ]
    },
    {
      "metadata": {
        "dc": {
          "key": "4"
        },
        "tags": [
          "sample_code"
        ],
        "trusted": true,
        "id": "Yf5bwglbL7uT",
        "outputId": "79bb78d7-0c94-4f67-8cfc-f1860b3da2ec"
      },
      "cell_type": "code",
      "source": [
        "%%sql\n",
        "postgresql:///international_debt\n",
        "\n",
        "SELECT * FROM international_debt\n",
        "LIMIT 10;\n",
        "\n",
        ""
      ],
      "execution_count": null,
      "outputs": [
        {
          "output_type": "stream",
          "text": "10 rows affected.\n",
          "name": "stdout"
        },
        {
          "output_type": "execute_result",
          "execution_count": 283,
          "data": {
            "text/plain": "[('Afghanistan', 'AFG', 'Disbursements on external debt, long-term (DIS, current US$)', 'DT.DIS.DLXF.CD', Decimal('72894453.700000003')),\n ('Afghanistan', 'AFG', 'Interest payments on external debt, long-term (INT, current US$)', 'DT.INT.DLXF.CD', Decimal('53239440.100000001')),\n ('Afghanistan', 'AFG', 'PPG, bilateral (AMT, current US$)', 'DT.AMT.BLAT.CD', Decimal('61739336.899999999')),\n ('Afghanistan', 'AFG', 'PPG, bilateral (DIS, current US$)', 'DT.DIS.BLAT.CD', Decimal('49114729.399999999')),\n ('Afghanistan', 'AFG', 'PPG, bilateral (INT, current US$)', 'DT.INT.BLAT.CD', Decimal('39903620.100000001')),\n ('Afghanistan', 'AFG', 'PPG, multilateral (AMT, current US$)', 'DT.AMT.MLAT.CD', Decimal('39107845')),\n ('Afghanistan', 'AFG', 'PPG, multilateral (DIS, current US$)', 'DT.DIS.MLAT.CD', Decimal('23779724.300000001')),\n ('Afghanistan', 'AFG', 'PPG, multilateral (INT, current US$)', 'DT.INT.MLAT.CD', Decimal('13335820')),\n ('Afghanistan', 'AFG', 'PPG, official creditors (AMT, current US$)', 'DT.AMT.OFFT.CD', Decimal('100847181.900000006')),\n ('Afghanistan', 'AFG', 'PPG, official creditors (DIS, current US$)', 'DT.DIS.OFFT.CD', Decimal('72894453.700000003'))]",
            "text/html": "<table>\n    <tr>\n        <th>country_name</th>\n        <th>country_code</th>\n        <th>indicator_name</th>\n        <th>indicator_code</th>\n        <th>debt</th>\n    </tr>\n    <tr>\n        <td>Afghanistan</td>\n        <td>AFG</td>\n        <td>Disbursements on external debt, long-term (DIS, current US$)</td>\n        <td>DT.DIS.DLXF.CD</td>\n        <td>72894453.700000003</td>\n    </tr>\n    <tr>\n        <td>Afghanistan</td>\n        <td>AFG</td>\n        <td>Interest payments on external debt, long-term (INT, current US$)</td>\n        <td>DT.INT.DLXF.CD</td>\n        <td>53239440.100000001</td>\n    </tr>\n    <tr>\n        <td>Afghanistan</td>\n        <td>AFG</td>\n        <td>PPG, bilateral (AMT, current US$)</td>\n        <td>DT.AMT.BLAT.CD</td>\n        <td>61739336.899999999</td>\n    </tr>\n    <tr>\n        <td>Afghanistan</td>\n        <td>AFG</td>\n        <td>PPG, bilateral (DIS, current US$)</td>\n        <td>DT.DIS.BLAT.CD</td>\n        <td>49114729.399999999</td>\n    </tr>\n    <tr>\n        <td>Afghanistan</td>\n        <td>AFG</td>\n        <td>PPG, bilateral (INT, current US$)</td>\n        <td>DT.INT.BLAT.CD</td>\n        <td>39903620.100000001</td>\n    </tr>\n    <tr>\n        <td>Afghanistan</td>\n        <td>AFG</td>\n        <td>PPG, multilateral (AMT, current US$)</td>\n        <td>DT.AMT.MLAT.CD</td>\n        <td>39107845</td>\n    </tr>\n    <tr>\n        <td>Afghanistan</td>\n        <td>AFG</td>\n        <td>PPG, multilateral (DIS, current US$)</td>\n        <td>DT.DIS.MLAT.CD</td>\n        <td>23779724.300000001</td>\n    </tr>\n    <tr>\n        <td>Afghanistan</td>\n        <td>AFG</td>\n        <td>PPG, multilateral (INT, current US$)</td>\n        <td>DT.INT.MLAT.CD</td>\n        <td>13335820</td>\n    </tr>\n    <tr>\n        <td>Afghanistan</td>\n        <td>AFG</td>\n        <td>PPG, official creditors (AMT, current US$)</td>\n        <td>DT.AMT.OFFT.CD</td>\n        <td>100847181.900000006</td>\n    </tr>\n    <tr>\n        <td>Afghanistan</td>\n        <td>AFG</td>\n        <td>PPG, official creditors (DIS, current US$)</td>\n        <td>DT.DIS.OFFT.CD</td>\n        <td>72894453.700000003</td>\n    </tr>\n</table>"
          },
          "metadata": {}
        }
      ]
    },
    {
      "metadata": {
        "dc": {
          "key": "12"
        },
        "deletable": false,
        "editable": false,
        "run_control": {
          "frozen": true
        },
        "tags": [
          "context"
        ],
        "id": "aeNSpdp3L7uU"
      },
      "cell_type": "markdown",
      "source": [
        "## 2. The number of distinct countries\n",
        "Examining the first ten rows, we can observe the debt amounts owed by Afghanistan across various debt indicators. However, we lack information on the total number of distinct countries represented in the dataset. The repetition of country names suggests that a nation may have debt in multiple indicators.\n",
        "\n",
        "To conduct comprehensive statistical analyses, it's essential to determine the count of unique countries in the dataset. In this section, we will extract the number of distinct countries present in the table."
      ]
    },
    {
      "metadata": {
        "dc": {
          "key": "12"
        },
        "tags": [
          "sample_code"
        ],
        "trusted": true,
        "id": "3GZgPnDPL7uU",
        "outputId": "b130ef51-fead-4164-da92-25678d122134"
      },
      "cell_type": "code",
      "source": [
        "%%sql\n",
        "SELECT COUNT(DISTINCT(country_name)) AS total_distinct_countries\n",
        "FROM international_debt;"
      ],
      "execution_count": null,
      "outputs": [
        {
          "output_type": "stream",
          "text": " * postgresql:///international_debt\n1 rows affected.\n",
          "name": "stdout"
        },
        {
          "output_type": "execute_result",
          "execution_count": 285,
          "data": {
            "text/plain": "[(124,)]",
            "text/html": "<table>\n    <tr>\n        <th>total_distinct_countries</th>\n    </tr>\n    <tr>\n        <td>124</td>\n    </tr>\n</table>"
          },
          "metadata": {}
        }
      ]
    },
    {
      "metadata": {
        "dc": {
          "key": "20"
        },
        "deletable": false,
        "editable": false,
        "run_control": {
          "frozen": true
        },
        "tags": [
          "context"
        ],
        "id": "BtrhgsJVL7uU"
      },
      "cell_type": "markdown",
      "source": [
        "## 3. The distinct debt indicators\n",
        "The dataset includes a total of 124 countries. As mentioned in the first section, there is a column titled <code>indicator_name</code> that provides a brief explanation of the reasons for incurring debt. Next to this column is another one called <code>indicator_code</code>, which denotes the category of these debts. Familiarity with these different debt indicators will aid in understanding the specific areas where a country may have outstanding debts."
      ]
    },
    {
      "metadata": {
        "dc": {
          "key": "20"
        },
        "tags": [
          "sample_code"
        ],
        "trusted": true,
        "id": "aIwMFznqL7uU",
        "outputId": "e89a9f4b-7306-4457-b74d-d5e2e6aad484"
      },
      "cell_type": "code",
      "source": [
        "%%sql\n",
        "\n",
        "SELECT DISTINCT(indicator_code) AS distinct_debt_indicators\n",
        "FROM international_debt\n",
        "ORDER BY 1;"
      ],
      "execution_count": null,
      "outputs": [
        {
          "output_type": "stream",
          "text": " * postgresql:///international_debt\n25 rows affected.\n",
          "name": "stdout"
        },
        {
          "output_type": "execute_result",
          "execution_count": 287,
          "data": {
            "text/plain": "[('DT.AMT.BLAT.CD',),\n ('DT.AMT.DLXF.CD',),\n ('DT.AMT.DPNG.CD',),\n ('DT.AMT.MLAT.CD',),\n ('DT.AMT.OFFT.CD',),\n ('DT.AMT.PBND.CD',),\n ('DT.AMT.PCBK.CD',),\n ('DT.AMT.PROP.CD',),\n ('DT.AMT.PRVT.CD',),\n ('DT.DIS.BLAT.CD',),\n ('DT.DIS.DLXF.CD',),\n ('DT.DIS.MLAT.CD',),\n ('DT.DIS.OFFT.CD',),\n ('DT.DIS.PCBK.CD',),\n ('DT.DIS.PROP.CD',),\n ('DT.DIS.PRVT.CD',),\n ('DT.INT.BLAT.CD',),\n ('DT.INT.DLXF.CD',),\n ('DT.INT.DPNG.CD',),\n ('DT.INT.MLAT.CD',),\n ('DT.INT.OFFT.CD',),\n ('DT.INT.PBND.CD',),\n ('DT.INT.PCBK.CD',),\n ('DT.INT.PROP.CD',),\n ('DT.INT.PRVT.CD',)]",
            "text/html": "<table>\n    <tr>\n        <th>distinct_debt_indicators</th>\n    </tr>\n    <tr>\n        <td>DT.AMT.BLAT.CD</td>\n    </tr>\n    <tr>\n        <td>DT.AMT.DLXF.CD</td>\n    </tr>\n    <tr>\n        <td>DT.AMT.DPNG.CD</td>\n    </tr>\n    <tr>\n        <td>DT.AMT.MLAT.CD</td>\n    </tr>\n    <tr>\n        <td>DT.AMT.OFFT.CD</td>\n    </tr>\n    <tr>\n        <td>DT.AMT.PBND.CD</td>\n    </tr>\n    <tr>\n        <td>DT.AMT.PCBK.CD</td>\n    </tr>\n    <tr>\n        <td>DT.AMT.PROP.CD</td>\n    </tr>\n    <tr>\n        <td>DT.AMT.PRVT.CD</td>\n    </tr>\n    <tr>\n        <td>DT.DIS.BLAT.CD</td>\n    </tr>\n    <tr>\n        <td>DT.DIS.DLXF.CD</td>\n    </tr>\n    <tr>\n        <td>DT.DIS.MLAT.CD</td>\n    </tr>\n    <tr>\n        <td>DT.DIS.OFFT.CD</td>\n    </tr>\n    <tr>\n        <td>DT.DIS.PCBK.CD</td>\n    </tr>\n    <tr>\n        <td>DT.DIS.PROP.CD</td>\n    </tr>\n    <tr>\n        <td>DT.DIS.PRVT.CD</td>\n    </tr>\n    <tr>\n        <td>DT.INT.BLAT.CD</td>\n    </tr>\n    <tr>\n        <td>DT.INT.DLXF.CD</td>\n    </tr>\n    <tr>\n        <td>DT.INT.DPNG.CD</td>\n    </tr>\n    <tr>\n        <td>DT.INT.MLAT.CD</td>\n    </tr>\n    <tr>\n        <td>DT.INT.OFFT.CD</td>\n    </tr>\n    <tr>\n        <td>DT.INT.PBND.CD</td>\n    </tr>\n    <tr>\n        <td>DT.INT.PCBK.CD</td>\n    </tr>\n    <tr>\n        <td>DT.INT.PROP.CD</td>\n    </tr>\n    <tr>\n        <td>DT.INT.PRVT.CD</td>\n    </tr>\n</table>"
          },
          "metadata": {}
        }
      ]
    },
    {
      "metadata": {
        "dc": {
          "key": "28"
        },
        "deletable": false,
        "editable": false,
        "run_control": {
          "frozen": true
        },
        "tags": [
          "context"
        ],
        "id": "v5nzp_1oL7uU"
      },
      "cell_type": "markdown",
      "source": [
        "## 4. The total amount of debt owed by the countries\n",
        "As previously noted, the financial debt of a specific country reflects its economic condition. However, if we want to examine this on a global scale, how should we proceed?\n",
        "\n",
        "Let's shift our focus from the debt indicators and calculate the total amount of debt (in USD) owed by various countries. This will provide insight into the overall state of the global economy."
      ]
    },
    {
      "metadata": {
        "dc": {
          "key": "28"
        },
        "tags": [
          "sample_code"
        ],
        "trusted": true,
        "id": "1b4OO3a5L7uV",
        "outputId": "b45a9d64-1d65-461f-d7fe-9f20bd2eb2ca"
      },
      "cell_type": "code",
      "source": [
        "%%sql\n",
        "SELECT\n",
        "ROUND(SUM(debt)/1000000, 2) AS total_debt\n",
        "FROM international_debt;"
      ],
      "execution_count": null,
      "outputs": [
        {
          "output_type": "stream",
          "text": " * postgresql:///international_debt\n1 rows affected.\n",
          "name": "stdout"
        },
        {
          "output_type": "execute_result",
          "execution_count": 289,
          "data": {
            "text/plain": "[(Decimal('3079734.49'),)]",
            "text/html": "<table>\n    <tr>\n        <th>total_debt</th>\n    </tr>\n    <tr>\n        <td>3079734.49</td>\n    </tr>\n</table>"
          },
          "metadata": {}
        }
      ]
    },
    {
      "metadata": {
        "dc": {
          "key": "36"
        },
        "deletable": false,
        "editable": false,
        "run_control": {
          "frozen": true
        },
        "tags": [
          "context"
        ],
        "id": "9LShNxrXL7uV"
      },
      "cell_type": "markdown",
      "source": [
        "## 5. Country with the highest debt\n",
        "\n",
        "That totals over 3 trillion USD, an amount that is difficult to comprehend.\n",
        "\n",
        "Now that we have determined the precise total of debt owed by various countries, let's identify which country has the highest amount of debt and the specific figure. This debt represents the cumulative total across different categories owed by that country. Understanding this will provide deeper insights into the country's socio-economic conditions. We can also explore which category accounts for the highest debt for that country, but we will set that aside for the moment."
      ]
    },
    {
      "metadata": {
        "dc": {
          "key": "36"
        },
        "tags": [
          "sample_code"
        ],
        "trusted": true,
        "id": "x0wRl4JxL7uV",
        "outputId": "fd816975-070f-4fbc-d647-bfc5e9b5c68f"
      },
      "cell_type": "code",
      "source": [
        "%%sql\n",
        "\n",
        "SELECT\n",
        "country_name , SUM(debt) AS total_debt\n",
        "FROM international_debt\n",
        "GROUP BY country_name\n",
        "ORDER BY total_debt DESC\n",
        "LIMIT 1;"
      ],
      "execution_count": null,
      "outputs": [
        {
          "output_type": "stream",
          "text": " * postgresql:///international_debt\n1 rows affected.\n",
          "name": "stdout"
        },
        {
          "output_type": "execute_result",
          "execution_count": 291,
          "data": {
            "text/plain": "[('China', Decimal('285793494734.200001568'))]",
            "text/html": "<table>\n    <tr>\n        <th>country_name</th>\n        <th>total_debt</th>\n    </tr>\n    <tr>\n        <td>China</td>\n        <td>285793494734.200001568</td>\n    </tr>\n</table>"
          },
          "metadata": {}
        }
      ]
    },
    {
      "metadata": {
        "dc": {
          "key": "44"
        },
        "deletable": false,
        "editable": false,
        "run_control": {
          "frozen": true
        },
        "tags": [
          "context"
        ],
        "id": "5F4A7zBQL7uV"
      },
      "cell_type": "markdown",
      "source": [
        "## 6. Average amount of debt across indicators\n",
        "It was China.\n",
        "\n",
        "Now that we have a general overview of the dataset and some summary statistics, we have a clearer understanding of the various debt indicators that countries are associated with. Next, we can delve deeper to determine the average amount of debt owed by a country. This will help us better understand how debt is distributed across different indicators.\""
      ]
    },
    {
      "metadata": {
        "dc": {
          "key": "44"
        },
        "tags": [
          "sample_code"
        ],
        "trusted": true,
        "id": "Z77nU2nOL7uV",
        "outputId": "1164096b-2df5-4c90-9429-e8218bf3a1ec"
      },
      "cell_type": "code",
      "source": [
        "%%sql\n",
        "SELECT\n",
        "    indicator_code  AS debt_indicator,\n",
        "    indicator_name ,\n",
        "    AVG(debt) AS average_debt\n",
        "FROM international_debt\n",
        "GROUP BY debt_indicator, indicator_name\n",
        "ORDER BY average_debt DESC\n",
        "LIMIT 10;"
      ],
      "execution_count": null,
      "outputs": [
        {
          "output_type": "stream",
          "text": " * postgresql:///international_debt\n10 rows affected.\n",
          "name": "stdout"
        },
        {
          "output_type": "execute_result",
          "execution_count": 293,
          "data": {
            "text/plain": "[('DT.AMT.DLXF.CD', 'Principal repayments on external debt, long-term (AMT, current US$)', Decimal('5904868401.499193612')),\n ('DT.AMT.DPNG.CD', 'Principal repayments on external debt, private nonguaranteed (PNG) (AMT, current US$)', Decimal('5161194333.812658349')),\n ('DT.DIS.DLXF.CD', 'Disbursements on external debt, long-term (DIS, current US$)', Decimal('2152041216.890243888')),\n ('DT.DIS.OFFT.CD', 'PPG, official creditors (DIS, current US$)', Decimal('1958983452.859836046')),\n ('DT.AMT.PRVT.CD', 'PPG, private creditors (AMT, current US$)', Decimal('1803694101.963265321')),\n ('DT.INT.DLXF.CD', 'Interest payments on external debt, long-term (INT, current US$)', Decimal('1644024067.650806481')),\n ('DT.DIS.BLAT.CD', 'PPG, bilateral (DIS, current US$)', Decimal('1223139290.398230108')),\n ('DT.INT.DPNG.CD', 'Interest payments on external debt, private nonguaranteed (PNG) (INT, current US$)', Decimal('1220410844.421518983')),\n ('DT.AMT.OFFT.CD', 'PPG, official creditors (AMT, current US$)', Decimal('1191187963.083064523')),\n ('DT.AMT.PBND.CD', 'PPG, bonds (AMT, current US$)', Decimal('1082623947.653623188'))]",
            "text/html": "<table>\n    <tr>\n        <th>debt_indicator</th>\n        <th>indicator_name</th>\n        <th>average_debt</th>\n    </tr>\n    <tr>\n        <td>DT.AMT.DLXF.CD</td>\n        <td>Principal repayments on external debt, long-term (AMT, current US$)</td>\n        <td>5904868401.499193612</td>\n    </tr>\n    <tr>\n        <td>DT.AMT.DPNG.CD</td>\n        <td>Principal repayments on external debt, private nonguaranteed (PNG) (AMT, current US$)</td>\n        <td>5161194333.812658349</td>\n    </tr>\n    <tr>\n        <td>DT.DIS.DLXF.CD</td>\n        <td>Disbursements on external debt, long-term (DIS, current US$)</td>\n        <td>2152041216.890243888</td>\n    </tr>\n    <tr>\n        <td>DT.DIS.OFFT.CD</td>\n        <td>PPG, official creditors (DIS, current US$)</td>\n        <td>1958983452.859836046</td>\n    </tr>\n    <tr>\n        <td>DT.AMT.PRVT.CD</td>\n        <td>PPG, private creditors (AMT, current US$)</td>\n        <td>1803694101.963265321</td>\n    </tr>\n    <tr>\n        <td>DT.INT.DLXF.CD</td>\n        <td>Interest payments on external debt, long-term (INT, current US$)</td>\n        <td>1644024067.650806481</td>\n    </tr>\n    <tr>\n        <td>DT.DIS.BLAT.CD</td>\n        <td>PPG, bilateral (DIS, current US$)</td>\n        <td>1223139290.398230108</td>\n    </tr>\n    <tr>\n        <td>DT.INT.DPNG.CD</td>\n        <td>Interest payments on external debt, private nonguaranteed (PNG) (INT, current US$)</td>\n        <td>1220410844.421518983</td>\n    </tr>\n    <tr>\n        <td>DT.AMT.OFFT.CD</td>\n        <td>PPG, official creditors (AMT, current US$)</td>\n        <td>1191187963.083064523</td>\n    </tr>\n    <tr>\n        <td>DT.AMT.PBND.CD</td>\n        <td>PPG, bonds (AMT, current US$)</td>\n        <td>1082623947.653623188</td>\n    </tr>\n</table>"
          },
          "metadata": {}
        }
      ]
    },
    {
      "metadata": {
        "dc": {
          "key": "60"
        },
        "deletable": false,
        "editable": false,
        "run_control": {
          "frozen": true
        },
        "tags": [
          "context"
        ],
        "id": "vACbLL-VL7uV"
      },
      "cell_type": "markdown",
      "source": [
        "## 7. The most common debt indicator\n",
        "China holds the highest debt in the long-term debt (DT.AMT.DLXF.CD) category, as confirmed by The World Bank. It's always a good practice to verify our analyses like this, as it helps ensure that our findings are accurate.\n",
        "\n",
        "We've seen that long-term debt is the leading category when it comes to average debt amounts. But I wonder if it's also the most common type of debt that countries carry."
      ]
    },
    {
      "metadata": {
        "dc": {
          "key": "60"
        },
        "tags": [
          "sample_code"
        ],
        "trusted": true,
        "id": "ZgCntGrCL7uW",
        "outputId": "d8213693-cc99-4731-94af-081382d555eb"
      },
      "cell_type": "code",
      "source": [
        "%%sql\n",
        "\n",
        "SELECT indicator_code, COUNT(indicator_code) AS indicator_count\n",
        "FROM international_debt\n",
        "GROUP BY indicator_code\n",
        "ORDER BY indicator_count DESC, indicator_code DESC\n",
        "LIMIT 20;\n"
      ],
      "execution_count": null,
      "outputs": [
        {
          "output_type": "stream",
          "text": " * postgresql:///international_debt\n20 rows affected.\n",
          "name": "stdout"
        },
        {
          "output_type": "execute_result",
          "execution_count": 297,
          "data": {
            "text/plain": "[('DT.INT.OFFT.CD', 124),\n ('DT.INT.MLAT.CD', 124),\n ('DT.INT.DLXF.CD', 124),\n ('DT.AMT.OFFT.CD', 124),\n ('DT.AMT.MLAT.CD', 124),\n ('DT.AMT.DLXF.CD', 124),\n ('DT.DIS.DLXF.CD', 123),\n ('DT.INT.BLAT.CD', 122),\n ('DT.DIS.OFFT.CD', 122),\n ('DT.AMT.BLAT.CD', 122),\n ('DT.DIS.MLAT.CD', 120),\n ('DT.DIS.BLAT.CD', 113),\n ('DT.INT.PRVT.CD', 98),\n ('DT.AMT.PRVT.CD', 98),\n ('DT.INT.PCBK.CD', 84),\n ('DT.AMT.PCBK.CD', 84),\n ('DT.INT.DPNG.CD', 79),\n ('DT.AMT.DPNG.CD', 79),\n ('DT.INT.PBND.CD', 69),\n ('DT.AMT.PBND.CD', 69)]",
            "text/html": "<table>\n    <tr>\n        <th>indicator_code</th>\n        <th>indicator_count</th>\n    </tr>\n    <tr>\n        <td>DT.INT.OFFT.CD</td>\n        <td>124</td>\n    </tr>\n    <tr>\n        <td>DT.INT.MLAT.CD</td>\n        <td>124</td>\n    </tr>\n    <tr>\n        <td>DT.INT.DLXF.CD</td>\n        <td>124</td>\n    </tr>\n    <tr>\n        <td>DT.AMT.OFFT.CD</td>\n        <td>124</td>\n    </tr>\n    <tr>\n        <td>DT.AMT.MLAT.CD</td>\n        <td>124</td>\n    </tr>\n    <tr>\n        <td>DT.AMT.DLXF.CD</td>\n        <td>124</td>\n    </tr>\n    <tr>\n        <td>DT.DIS.DLXF.CD</td>\n        <td>123</td>\n    </tr>\n    <tr>\n        <td>DT.INT.BLAT.CD</td>\n        <td>122</td>\n    </tr>\n    <tr>\n        <td>DT.DIS.OFFT.CD</td>\n        <td>122</td>\n    </tr>\n    <tr>\n        <td>DT.AMT.BLAT.CD</td>\n        <td>122</td>\n    </tr>\n    <tr>\n        <td>DT.DIS.MLAT.CD</td>\n        <td>120</td>\n    </tr>\n    <tr>\n        <td>DT.DIS.BLAT.CD</td>\n        <td>113</td>\n    </tr>\n    <tr>\n        <td>DT.INT.PRVT.CD</td>\n        <td>98</td>\n    </tr>\n    <tr>\n        <td>DT.AMT.PRVT.CD</td>\n        <td>98</td>\n    </tr>\n    <tr>\n        <td>DT.INT.PCBK.CD</td>\n        <td>84</td>\n    </tr>\n    <tr>\n        <td>DT.AMT.PCBK.CD</td>\n        <td>84</td>\n    </tr>\n    <tr>\n        <td>DT.INT.DPNG.CD</td>\n        <td>79</td>\n    </tr>\n    <tr>\n        <td>DT.AMT.DPNG.CD</td>\n        <td>79</td>\n    </tr>\n    <tr>\n        <td>DT.INT.PBND.CD</td>\n        <td>69</td>\n    </tr>\n    <tr>\n        <td>DT.AMT.PBND.CD</td>\n        <td>69</td>\n    </tr>\n</table>"
          },
          "metadata": {}
        }
      ]
    }
  ],
  "metadata": {
    "kernelspec": {
      "name": "python3",
      "display_name": "Python 3",
      "language": "python"
    },
    "language_info": {
      "name": "python",
      "version": "3.6.7",
      "mimetype": "text/x-python",
      "codemirror_mode": {
        "name": "ipython",
        "version": 3
      },
      "pygments_lexer": "ipython3",
      "nbconvert_exporter": "python",
      "file_extension": ".py"
    },
    "colab": {
      "provenance": [],
      "toc_visible": true
    }
  },
  "nbformat": 4,
  "nbformat_minor": 0
}